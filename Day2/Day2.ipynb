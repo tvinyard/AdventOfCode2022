{
 "cells": [
  {
   "cell_type": "markdown",
   "metadata": {},
   "source": [
    "## --- Day 2: Rock Paper Scissors ---\n",
    "\n",
    "The Elves begin to set up camp on the beach. To decide whose tent gets to be closest to the snack storage, a giant Rock Paper Scissors tournament is already in progress.\n",
    "\n",
    "Rock Paper Scissors is a game between two players. Each game contains many rounds; in each round, the players each simultaneously choose one of Rock, Paper, or Scissors using a hand shape. Then, a winner for that round is selected: Rock defeats Scissors, Scissors defeats Paper, and Paper defeats Rock. If both players choose the same shape, the round instead ends in a draw.\n",
    "\n",
    "Appreciative of your help yesterday, one Elf gives you an encrypted strategy guide (your puzzle input) that they say will be sure to help you win. \"The first column is what your opponent is going to play: A for Rock, B for Paper, and C for Scissors. The second column--\" Suddenly, the Elf is called away to help with someone's tent.\n",
    "\n",
    "The second column, you reason, must be what you should play in response: X for Rock, Y for Paper, and Z for Scissors. Winning every time would be suspicious, so the responses must have been carefully chosen.\n",
    "\n",
    "The winner of the whole tournament is the player with the highest score. Your total score is the sum of your scores for each round. The score for a single round is the score for the shape you selected (1 for Rock, 2 for Paper, and 3 for Scissors) plus the score for the outcome of the round (0 if you lost, 3 if the round was a draw, and 6 if you won).\n",
    "\n",
    "Since you can't be sure if the Elf is trying to help you or trick you, you should calculate the score you would get if you were to follow the strategy guide.\n",
    "\n",
    "For example, suppose you were given the following strategy guide:\n",
    "\n",
    "</code><pre>\n",
    "    A Y\n",
    "    B X\n",
    "    C Z\n",
    "\n",
    "This strategy guide predicts and recommends the following:\n",
    "\n",
    "    In the first round, your opponent will choose Rock (A), and you should choose Paper (Y). This ends in a win for you with a score of 8 (2 because you chose Paper + 6 because you won).\n",
    "    In the second round, your opponent will choose Paper (B), and you should choose Rock (X). This ends in a loss for you with a score of 1 (1 + 0).\n",
    "    The third round is a draw with both players choosing Scissors, giving you a score of 3 + 3 = 6.\n",
    "\n",
    "In this example, if you were to follow the strategy guide, you would get a total score of 15 (8 + 1 + 6).\n",
    "\n",
    "What would your total score be if everything goes exactly according to your strategy guide?\n"
   ]
  },
  {
   "cell_type": "code",
   "execution_count": 1,
   "metadata": {},
   "outputs": [],
   "source": [
    "# Imports"
   ]
  },
  {
   "cell_type": "code",
   "execution_count": 51,
   "metadata": {},
   "outputs": [
    {
     "data": {
      "text/plain": [
       "11906"
      ]
     },
     "execution_count": 51,
     "metadata": {},
     "output_type": "execute_result"
    }
   ],
   "source": [
    "with open('input.txt','r') as f:\n",
    "    read_data = f.read().split('\\n')\n",
    "\n",
    "dictScore = {\n",
    "    'A X': 3, #Rock\n",
    "    'A Y': 6,\n",
    "    'A Z': 0,\n",
    "    'B X': 0, #Paper \n",
    "    'B Y': 3,\n",
    "    'B Z': 6,\n",
    "    'C X': 6, #Scissors\n",
    "    'C Y': 0,\n",
    "    'C Z': 3,\n",
    "}\n",
    "    \n",
    "dictAddScore = {\n",
    "    'X':1,\n",
    "    'Y':2,\n",
    "    'Z':3\n",
    "}\n",
    "\n",
    "i=0\n",
    "score = 0\n",
    "\n",
    "for each in read_data:\n",
    "    score += (dictScore[read_data[i]] + dictAddScore[read_data[i].split(' ')[1]])\n",
    "    i += 1\n",
    "\n",
    "score"
   ]
  },
  {
   "cell_type": "code",
   "execution_count": 32,
   "metadata": {},
   "outputs": [],
   "source": [
    "dictTrans = {\n",
    "    'A':'Rock',\n",
    "    'B':'Paper',\n",
    "    'C':'Scissors',\n",
    "    'X':'Rock',\n",
    "    'Y':'Paper',\n",
    "    'Z':'Scissors'\n",
    "}"
   ]
  },
  {
   "cell_type": "markdown",
   "metadata": {},
   "source": [
    "## --- Part Two ---\n",
    "\n",
    "The Elf finishes helping with the tent and sneaks back over to you. \"Anyway, the second column says how the round needs to end: X means you need to lose, Y means you need to end the round in a draw, and Z means you need to win. Good luck!\"\n",
    "\n",
    "The total score is still calculated in the same way, but now you need to figure out what shape to choose so the round ends as indicated. The example above now goes like this:\n",
    "\n",
    "    In the first round, your opponent will choose Rock (A), and you need the round to end in a draw (Y), so you also choose Rock. This gives you a score of 1 + 3 = 4.\n",
    "    In the second round, your opponent will choose Paper (B), and you choose Rock so you lose (X) with a score of 1 + 0 = 1.\n",
    "    In the third round, you will defeat your opponent's Scissors with Rock for a score of 1 + 6 = 7.\n",
    "\n",
    "Now that you're correctly decrypting the ultra top secret strategy guide, you would get a total score of 12.\n",
    "\n",
    "Following the Elf's instructions for the second column, what would your total score be if everything goes exactly according to your strategy guide?\n"
   ]
  },
  {
   "cell_type": "code",
   "execution_count": 50,
   "metadata": {},
   "outputs": [
    {
     "data": {
      "text/plain": [
       "11186"
      ]
     },
     "execution_count": 50,
     "metadata": {},
     "output_type": "execute_result"
    }
   ],
   "source": [
    "newDictScore = {        #Dict of the score per each game as well as the additional score value per hand thrown\n",
    "    'A X': [0,3],       #Rock/Scissors - Lose\n",
    "    'A Y': [3,1],       #Rock/Rock - Draw\n",
    "    'A Z': [6,2],       #Rock/Paper - Win\n",
    "    'B X': [0,1],       #Paper/Rock - Lose\n",
    "    'B Y': [3,2],       #Paper/Paper - Tie\n",
    "    'B Z': [6,3],       #Paper/Scissors - Win\n",
    "    'C X': [0,2],       #Scissors/Paper - Lose\n",
    "    'C Y': [3,3],       #Scissors/Scissors - Tie\n",
    "    'C Z': [6,1],       #Scissors/Rock - Win\n",
    "}\n",
    "\n",
    "i=0\n",
    "score = 0\n",
    "\n",
    "for each in read_data:\n",
    "    score += (newDictScore[read_data[i]][0] + newDictScore[read_data[i]][1])\n",
    "    i += 1\n",
    "\n",
    "score"
   ]
  }
 ],
 "metadata": {
  "kernelspec": {
   "display_name": "Python 3",
   "language": "python",
   "name": "python3"
  },
  "language_info": {
   "codemirror_mode": {
    "name": "ipython",
    "version": 3
   },
   "file_extension": ".py",
   "mimetype": "text/x-python",
   "name": "python",
   "nbconvert_exporter": "python",
   "pygments_lexer": "ipython3",
   "version": "3.7.4"
  }
 },
 "nbformat": 4,
 "nbformat_minor": 4
}
