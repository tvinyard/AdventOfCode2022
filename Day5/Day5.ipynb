{
 "cells": [
  {
   "attachments": {},
   "cell_type": "markdown",
   "metadata": {},
   "source": [
    "--- Day 5: Supply Stacks ---\n",
    "\n",
    "The expedition can depart as soon as the final supplies have been unloaded from the ships. Supplies are stored in stacks of marked crates, but because the needed supplies are buried under many other crates, the crates need to be rearranged.\n",
    "\n",
    "The ship has a giant cargo crane capable of moving crates between stacks. To ensure none of the crates get crushed or fall over, the crane operator will rearrange them in a series of carefully-planned steps. After the crates are rearranged, the desired crates will be at the top of each stack.\n",
    "\n",
    "The Elves don't want to interrupt the crane operator during this delicate procedure, but they forgot to ask her which crate will end up where, and they want to be ready to unload them as soon as possible so they can embark.\n",
    "\n",
    "They do, however, have a drawing of the starting stacks of crates and the rearrangement procedure (your puzzle input). For example:\n",
    "\n",
    "    [D]    \n",
    "[N] [C]    \n",
    "[Z] [M] [P]\n",
    " 1   2   3 \n",
    "\n",
    "        move 1 from 2 to 1\n",
    "        move 3 from 1 to 3\n",
    "        move 2 from 2 to 1\n",
    "        move 1 from 1 to 2\n",
    "\n",
    "In this example, there are three stacks of crates. Stack 1 contains two crates: crate Z is on the bottom, and crate N is on top. Stack 2 contains three crates; from bottom to top, they are crates M, C, and D. Finally, stack 3 contains a single crate, P.\n",
    "\n",
    "Then, the rearrangement procedure is given. In each step of the procedure, a quantity of crates is moved from one stack to a different stack. In the first step of the above rearrangement procedure, one crate is moved from stack 2 to stack 1, resulting in this configuration:\n",
    "\n",
    "[D]        \n",
    "[N] [C]    \n",
    "[Z] [M] [P]\n",
    " 1   2   3 \n",
    "\n",
    "In the second step, three crates are moved from stack 1 to stack 3. Crates are moved one at a time, so the first crate to be moved (D) ends up below the second and third crates:\n",
    "\n",
    "        [Z]\n",
    "        [N]\n",
    "    [C] [D]\n",
    "    [M] [P]\n",
    " 1   2   3\n",
    "\n",
    "Then, both crates are moved from stack 2 to stack 1. Again, because crates are moved one at a time, crate C ends up below crate M:\n",
    "\n",
    "        [Z]\n",
    "        [N]\n",
    "[M]     [D]\n",
    "[C]     [P]\n",
    " 1   2   3\n",
    "\n",
    "Finally, one crate is moved from stack 1 to stack 2:\n",
    "\n",
    "        [Z]\n",
    "        [N]\n",
    "        [D]\n",
    "[C] [M] [P]\n",
    " 1   2   3\n",
    "\n",
    "The Elves just need to know which crate will end up on top of each stack; in this example, the top crates are C in stack 1, M in stack 2, and Z in stack 3, so you should combine these together and give the Elves the message CMZ.\n",
    "\n",
    "After the rearrangement procedure completes, what crate ends up on top of each stack?"
   ]
  },
  {
   "cell_type": "code",
   "execution_count": 187,
   "metadata": {},
   "outputs": [
    {
     "data": {
      "text/plain": [
       "[[' ', ' ', ' ', ' ', 'H', 'F', 'N', 'G'],\n",
       " [' ', ' ', 'D', 'Z', 'V', 'M', 'N', 'H'],\n",
       " [' ', ' ', ' ', 'R', 'M', 'G', 'H', 'D'],\n",
       " ['M', 'V', 'N', 'B', 'F', 'C', 'H', 'G'],\n",
       " [' ', 'G', 'R', 'P', 'M', 'S', 'W', 'F'],\n",
       " ['L', 'V', 'D', 'C', 'N', 'J', 'P', 'B'],\n",
       " [' ', 'H', 'T', 'B', 'J', 'L', 'V', 'G'],\n",
       " [' ', ' ', ' ', ' ', ' ', 'J', 'W', 'V'],\n",
       " ['F', 'T', 'N', 'Z', 'M', 'G', 'H', 'J']]"
      ]
     },
     "execution_count": 187,
     "metadata": {},
     "output_type": "execute_result"
    }
   ],
   "source": [
    "with open('input.txt','r') as f:\n",
    "    data = f.read().split('\\n')\n",
    "\n",
    "stacksData = data[:8]\n",
    "movesData = data[10:]\n",
    "\n",
    "vertStacks = [[],[],[],[],[],[],[],[],[]]\n",
    "\n",
    "def createStacksList(dataStacks):\n",
    "    k=0\n",
    "    i=33 #Col\n",
    "    while (i+1) > 0: #Iterate backwards so we can pop data later\n",
    "        j=0 #Row\n",
    "        for row in stacksData:  #iterate over the height of the column\n",
    "            vertStacks[k].append(stacksData[j][i])\n",
    "            j+=1\n",
    "        i-=4\n",
    "        k+=1\n",
    "\n",
    "createStacksList(stacksData)\n",
    "\n",
    "vertStacks"
   ]
  },
  {
   "cell_type": "code",
   "execution_count": 185,
   "metadata": {},
   "outputs": [
    {
     "data": {
      "text/plain": [
       "'G'"
      ]
     },
     "execution_count": 185,
     "metadata": {},
     "output_type": "execute_result"
    }
   ],
   "source": [
    "stacksData[7][33]"
   ]
  }
 ],
 "metadata": {
  "kernelspec": {
   "display_name": "base",
   "language": "python",
   "name": "python3"
  },
  "language_info": {
   "codemirror_mode": {
    "name": "ipython",
    "version": 3
   },
   "file_extension": ".py",
   "mimetype": "text/x-python",
   "name": "python",
   "nbconvert_exporter": "python",
   "pygments_lexer": "ipython3",
   "version": "3.7.4"
  },
  "orig_nbformat": 4,
  "vscode": {
   "interpreter": {
    "hash": "ba6ad893193e2de4c53a53cfafda2e360f2068a8cecb190de647b5fc02f8e6bf"
   }
  }
 },
 "nbformat": 4,
 "nbformat_minor": 2
}
