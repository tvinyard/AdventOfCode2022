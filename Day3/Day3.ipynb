{
 "cells": [
  {
   "cell_type": "markdown",
   "metadata": {},
   "source": [
    "## --- Day 3: Rucksack Reorganization ---\n",
    "\n",
    "One Elf has the important job of loading all of the rucksacks with supplies for the jungle journey. Unfortunately, that Elf didn't quite follow the packing instructions, and so a few items now need to be rearranged.\n",
    "\n",
    "Each rucksack has two large compartments. All items of a given type are meant to go into exactly one of the two compartments. The Elf that did the packing failed to follow this rule for exactly one item type per rucksack.\n",
    "\n",
    "The Elves have made a list of all of the items currently in each rucksack (your puzzle input), but they need your help finding the errors. Every item type is identified by a single lowercase or uppercase letter (that is, a and A refer to different types of items).\n",
    "\n",
    "The list of items for each rucksack is given as characters all on a single line. A given rucksack always has the same number of items in each of its two compartments, so the first half of the characters represent items in the first compartment, while the second half of the characters represent items in the second compartment.\n",
    "\n",
    "For example, suppose you have the following list of contents from six rucksacks:\n",
    "\n",
    "    vJrwpWtwJgWrhcsFMMfFFhFp\n",
    "    jqHRNqRjqzjGDLGLrsFMfFZSrLrFZsSL\n",
    "    PmmdzqPrVvPwwTWBwg\n",
    "    wMqvLMZHhHMvwLHjbvcjnnSBnvTQFn\n",
    "    ttgJtRGJQctTZtZT\n",
    "    CrZsJsPPZsGzwwsLwLmpwMDw\n",
    "\n",
    "    The first rucksack contains the items vJrwpWtwJgWrhcsFMMfFFhFp, which means its first compartment contains the items vJrwpWtwJgWr, while the second compartment contains the items hcsFMMfFFhFp. The only item type that appears in both compartments is lowercase p.\n",
    "    The second rucksack's compartments contain jqHRNqRjqzjGDLGL and rsFMfFZSrLrFZsSL. The only item type that appears in both compartments is uppercase L.\n",
    "    The third rucksack's compartments contain PmmdzqPrV and vPwwTWBwg; the only common item type is uppercase P.\n",
    "    The fourth rucksack's compartments only share item type v.\n",
    "    The fifth rucksack's compartments only share item type t.\n",
    "    The sixth rucksack's compartments only share item type s.\n",
    "\n",
    "To help prioritize item rearrangement, every item type can be converted to a priority:\n",
    "\n",
    "    Lowercase item types a through z have priorities 1 through 26.\n",
    "    Uppercase item types A through Z have priorities 27 through 52.\n",
    "\n",
    "In the above example, the priority of the item type that appears in both compartments of each rucksack is 16 (p), 38 (L), 42 (P), 22 (v), 20 (t), and 19 (s); the sum of these is 157.\n",
    "\n",
    "Find the item type that appears in both compartments of each rucksack. What is the sum of the priorities of those item types?\n"
   ]
  },
  {
   "cell_type": "code",
   "execution_count": 137,
   "metadata": {},
   "outputs": [
    {
     "name": "stdout",
     "output_type": "stream",
     "text": [
      "['L', 'b', 'Z', 'b', 'Z', 'h', 'L', 'M', 'P', 'W', 'S', 'f', 'T', 'l', 'm', 'M', 'M', 'p', 'g', 'W', 'h', 'C', 'z', 'F', 'S', 'r', 'W', 'q', 'd', 'L', 'Q', 'd', 'V', 'c', 'P', 'V', 'F', 'm', 'r', 'f', 'J', 'h', 'Z', 'C', 'c', 'r', 'f', 'q', 'm', 'H', 'W', 'q', 'w', 's', 'P', 'r', 'B', 'P', 'H', 'D', 'b', 'p', 'd', 'd', 'L', 'G', 'p', 'Q', 's', 'M', 'M', 'B', 'D', 'l', 'l', 'd', 'S', 'H', 'G', 'G', 'W', 'l', 'z', 'F', 'v', 'Q', 'c', 'm', 'q', 'd', 'n', 'N', 'h', 'M', 'C', 'S', 'D', 'v', 'c', 'B', 'j', 'G', 'm', 'V', 'N', 's', 's', 'z', 'B', 'r', 's', 'n', 'Q', 'r', 'C', 'n', 'g', 'S', 'R', 'h', 'Z', 'C', 'R', 'W', 'w', 'Z', 'V', 'P', 'z', 'm', 'c', 's', 's', 'j', 'S', 'P', 'J', 'B', 'D', 'W', 'F', 'm', 'p', 'J', 'B', 'J', 'h', 'H', 'L', 'R', 'D', 'V', 'h', 'D', 'Z', 'j', 'q', 'R', 'P', 'N', 'R', 'l', 't', 'D', 'S', 'w', 't', 'N', 'w', 'z', 'R', 'N', 'M', 'F', 'b', 'j', 'B', 'H', 'N', 'v', 't', 'T', 'T', 'P', 'm', 'g', 'V', 'g', 't', 'J', 'h', 'm', 'D', 'S', 'h', 'f', 'z', 'W', 'm', 'Z', 'r', 'w', 't', 'C', 'V', 'c', 'd', 'M', 'D', 'j', 't', 'R', 'T', 'J', 'j', 'N', 't', 'F', 'g', 'Q', 'R', 'J', 'D', 'G', 'j', 'N', 'b', 'z', 'j', 'g', 'C', 'd', 'q', 'F', 'D', 'j', 'h', 'f', 'L', 't', 'G', 'C', 'N', 'g', 'q', 'P', 'Q', 'W', 'l', 'm', 'm', 'g', 'p', 't', 'f', 'j', 'r', 'N', 'L', 'Z', 'R', 'g', 'f', 'F', 'j', 'z', 'S', 'H', 'D', 't', 'g', 'g', 'b', 'C', 'Z', 'q', 'W', 'm', 'r', 'm', 'h', 'B', 'p', 'b', 'g', 'c', 'j', 'v', 'p', 'D', 's', 'v', 'Z', 'V', 'H', 'g', 'q', 's', 'V', 'B', 'N', 'L', 'd', 'r', 'L', 'P', 'b', 'h', 's', 'z', 'S', 'D', 'l', 'R', 'q', 't', 'T', 'H', 'W', 'L', 'W', 'c', 'F', 'z', 'D', 'D', 'B', 'd', 'V', 'H', 'l', 'F', 'W', 'L', 'S', 'L', 'B', 's', 'L', 'V', 'G', 'r', 'T', 's', 'h', 'D', 'd', 'j', 'G', 'S', 'F', 'q', 'H', 'z', 'l', 's', 'm', 'v', 'f', 'c', 's', 'q', 'z', 'g', 'z', 'n', 'Z', 'p', 'g', 'v', 'g', 'j', 'j', 'T', 'V', 'q', 'z', 'C', 'C', 'm', 'l', 'G', 't', 'D', 'p']\n"
     ]
    }
   ],
   "source": [
    "with open('input.txt','r') as f:\n",
    "    read_data = f.read().split('\\n')\n",
    "\n",
    "b=0\n",
    "s3=[]\n",
    "\n",
    "for each in read_data:\n",
    "    \n",
    "    s1=read_data[b][:int(len(read_data[b])*.5)]\n",
    "    s2=read_data[b][int(len(read_data[b])*.5):]\n",
    "\n",
    "    a=0\n",
    "\n",
    "    for each in [*s1]:\n",
    "        if [*s2][a] in [*s1]:\n",
    "            s3.append([*s1][a])\n",
    "            a+=1\n",
    "        else:\n",
    "            a+=1\n",
    "    \n",
    "    b+=1\n",
    "print(s3)"
   ]
  },
  {
   "cell_type": "code",
   "execution_count": null,
   "metadata": {},
   "outputs": [],
   "source": []
  }
 ],
 "metadata": {
  "kernelspec": {
   "display_name": "Python 3",
   "language": "python",
   "name": "python3"
  },
  "language_info": {
   "codemirror_mode": {
    "name": "ipython",
    "version": 3
   },
   "file_extension": ".py",
   "mimetype": "text/x-python",
   "name": "python",
   "nbconvert_exporter": "python",
   "pygments_lexer": "ipython3",
   "version": "3.7.4"
  }
 },
 "nbformat": 4,
 "nbformat_minor": 4
}
